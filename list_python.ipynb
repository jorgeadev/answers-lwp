{
 "cells": [
  {
   "cell_type": "markdown",
   "metadata": {},
   "source": [
    "1)Escribe una función que reciba una lista como argumento y retorne una cadena con todos los valores separados para una coma y un espacio, excepto el ultimo valor que será precedido por ‘y’.\n",
    "Ejemplo:\n",
    "entrada = [‘manzanas’, ‘bananas’, ‘peras’, ‘uvas’]\n",
    "salida = ’manzanas, bananas, peras y uvas’\n",
    "\n",
    "2)tome la lista sgte e imprima el textmoji de corazón\n",
    "Impresión de textmojis grid = [['.', '.', '.', '.', '.', '.’],"
   ]
  },
  {
   "cell_type": "code",
   "execution_count": 1,
   "metadata": {},
   "outputs": [
    {
     "data": {
      "text/plain": [
       "'manzanas,bananas,peras y uvas'"
      ]
     },
     "execution_count": 1,
     "metadata": {},
     "output_type": "execute_result"
    }
   ],
   "source": [
    "def lista_to_cadena(lista):\n",
    "    lista_new = lista[:-1]\n",
    "    cadena = \",\".join(lista_new)\n",
    "    cadena = cadena + \" y \" + lista[-1]\n",
    "    return cadena\n",
    "\n",
    "lista = [\"manzanas\", \"bananas\", \"peras\", \"uvas\"]\n",
    "lista_to_cadena(lista)"
   ]
  },
  {
   "cell_type": "code",
   "execution_count": null,
   "metadata": {},
   "outputs": [],
   "source": []
  }
 ],
 "metadata": {
  "kernelspec": {
   "display_name": "Python 3",
   "language": "python",
   "name": "python3"
  },
  "language_info": {
   "codemirror_mode": {
    "name": "ipython",
    "version": 3
   },
   "file_extension": ".py",
   "mimetype": "text/x-python",
   "name": "python",
   "nbconvert_exporter": "python",
   "pygments_lexer": "ipython3",
   "version": "3.7.3rc1"
  }
 },
 "nbformat": 4,
 "nbformat_minor": 2
}
